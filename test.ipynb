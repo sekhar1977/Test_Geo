{
 "cells": [
  {
   "cell_type": "code",
   "execution_count": 5,
   "metadata": {},
   "outputs": [
    {
     "name": "stdout",
     "output_type": "stream",
     "text": [
      "hello\n"
     ]
    }
   ],
   "source": [
    "print(\"hello\")"
   ]
  },
  {
   "cell_type": "code",
   "execution_count": 10,
   "metadata": {},
   "outputs": [
    {
     "name": "stdout",
     "output_type": "stream",
     "text": [
      "Collecting mysql-connector-python\n",
      "  Downloading mysql_connector_python-9.0.0-cp312-cp312-win_amd64.whl.metadata (2.0 kB)\n",
      "Downloading mysql_connector_python-9.0.0-cp312-cp312-win_amd64.whl (14.3 MB)\n",
      "   ---------------------------------------- 0.0/14.3 MB ? eta -:--:--\n",
      "   - -------------------------------------- 0.5/14.3 MB 4.2 MB/s eta 0:00:04\n",
      "   ----- ---------------------------------- 1.8/14.3 MB 5.3 MB/s eta 0:00:03\n",
      "   -------- ------------------------------- 3.1/14.3 MB 5.6 MB/s eta 0:00:03\n",
      "   ------------ --------------------------- 4.5/14.3 MB 5.7 MB/s eta 0:00:02\n",
      "   --------------- ------------------------ 5.5/14.3 MB 5.6 MB/s eta 0:00:02\n",
      "   ----------------- ---------------------- 6.3/14.3 MB 5.7 MB/s eta 0:00:02\n",
      "   ------------------ --------------------- 6.6/14.3 MB 5.3 MB/s eta 0:00:02\n",
      "   -------------------- ------------------- 7.3/14.3 MB 4.5 MB/s eta 0:00:02\n",
      "   ---------------------- ----------------- 8.1/14.3 MB 4.5 MB/s eta 0:00:02\n",
      "   ------------------------ --------------- 8.9/14.3 MB 4.5 MB/s eta 0:00:02\n",
      "   --------------------------- ------------ 9.7/14.3 MB 4.5 MB/s eta 0:00:02\n",
      "   ----------------------------- ---------- 10.5/14.3 MB 4.4 MB/s eta 0:00:01\n",
      "   ------------------------------- -------- 11.3/14.3 MB 4.3 MB/s eta 0:00:01\n",
      "   --------------------------------- ------ 12.1/14.3 MB 4.2 MB/s eta 0:00:01\n",
      "   ----------------------------------- ---- 12.8/14.3 MB 4.2 MB/s eta 0:00:01\n",
      "   -------------------------------------- - 13.6/14.3 MB 4.2 MB/s eta 0:00:01\n",
      "   ---------------------------------------  14.2/14.3 MB 4.1 MB/s eta 0:00:01\n",
      "   ---------------------------------------  14.2/14.3 MB 4.1 MB/s eta 0:00:01\n",
      "   ---------------------------------------- 14.3/14.3 MB 3.8 MB/s eta 0:00:00\n",
      "Installing collected packages: mysql-connector-python\n",
      "Successfully installed mysql-connector-python-9.0.0\n",
      "Note: you may need to restart the kernel to use updated packages.\n"
     ]
    }
   ],
   "source": [
    "%pip install mysql-connector-python"
   ]
  },
  {
   "cell_type": "code",
   "execution_count": 11,
   "metadata": {},
   "outputs": [
    {
     "name": "stdout",
     "output_type": "stream",
     "text": [
      "('sekhar', 'Director')\n",
      "('Janitha', 'Receptionist')\n",
      "('John', 'Highway 21')\n",
      "('Mandeep', 'CFO')\n",
      "('Mandeep', 'CFO')\n",
      "('abcd', 'ananymous')\n",
      "('efgh', 'unknown')\n",
      "('name', 'Shashi')\n",
      "('designation', 'AIExpert')\n",
      "('Shasi', 'GENAI')\n",
      "('Unknown', 'Allexpert')\n"
     ]
    }
   ],
   "source": [
    "import mysql.connector\n",
    "mydb = mysql.connector.connect(user='root',passwd='12345',host='localhost',database='geowise',\n",
    "                              auth_plugin='mysql_native_password')\n",
    "mycursor = mydb.cursor()\n",
    "mycursor.execute(\"select * from employee\")\n",
    "# mycursor.execute(\"insert into employee values ('Adi','AddDirector'), ('Mandeep','CFO')\")\n",
    "# sql = \"insert into employee (name, designation) VALUES ('Mandeep', 'CFO');\"\n",
    "\n",
    "# mycursor.execute(sql)\n",
    "\n",
    "# mydb.commit()\n",
    "result = mycursor.fetchall()\n",
    "\n",
    "for i in result:\n",
    "    print(i)"
   ]
  },
  {
   "cell_type": "code",
   "execution_count": null,
   "metadata": {},
   "outputs": [],
   "source": []
  },
  {
   "cell_type": "code",
   "execution_count": null,
   "metadata": {},
   "outputs": [],
   "source": []
  },
  {
   "cell_type": "code",
   "execution_count": null,
   "metadata": {},
   "outputs": [],
   "source": []
  }
 ],
 "metadata": {
  "kernelspec": {
   "display_name": "Python 3",
   "language": "python",
   "name": "python3"
  },
  "language_info": {
   "codemirror_mode": {
    "name": "ipython",
    "version": 3
   },
   "file_extension": ".py",
   "mimetype": "text/x-python",
   "name": "python",
   "nbconvert_exporter": "python",
   "pygments_lexer": "ipython3",
   "version": "3.12.5"
  }
 },
 "nbformat": 4,
 "nbformat_minor": 2
}
